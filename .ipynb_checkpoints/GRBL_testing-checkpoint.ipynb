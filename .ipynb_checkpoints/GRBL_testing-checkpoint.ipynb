{
 "cells": [
  {
   "cell_type": "code",
   "execution_count": 1,
   "metadata": {},
   "outputs": [],
   "source": [
    "import time\n",
    "import serial"
   ]
  },
  {
   "cell_type": "code",
   "execution_count": 44,
   "metadata": {},
   "outputs": [],
   "source": [
    "s = serial.Serial('/dev/ttyUSB0', 115200)"
   ]
  },
  {
   "cell_type": "code",
   "execution_count": 45,
   "metadata": {},
   "outputs": [],
   "source": [
    "s.write(b\"\\r\\n\\r\\n\")\n",
    "time.sleep(2)\n",
    "s.flushInput()"
   ]
  },
  {
   "cell_type": "code",
   "execution_count": 46,
   "metadata": {},
   "outputs": [
    {
     "name": "stdout",
     "output_type": "stream",
     "text": [
      "b'ok\\r\\n'\n"
     ]
    }
   ],
   "source": [
    "s.write(b\"G01 F300\"+b\"\\n\")\n",
    "print(s.readline())"
   ]
  },
  {
   "cell_type": "code",
   "execution_count": 52,
   "metadata": {},
   "outputs": [
    {
     "name": "stdout",
     "output_type": "stream",
     "text": [
      "b'ok'\n"
     ]
    }
   ],
   "source": [
    "s.write(b\"G01 X1\"+b\"\\n\")\n",
    "print(s.readline().strip())"
   ]
  },
  {
   "cell_type": "code",
   "execution_count": 40,
   "metadata": {},
   "outputs": [
    {
     "name": "stdout",
     "output_type": "stream",
     "text": [
      "b'$0=10\\r\\n$1=25\\r\\n$2=0\\r\\n$3=0\\r\\n$4=0\\r\\n$5=0\\r\\n$6=0\\r\\n$10=1\\r\\n$11=0.010\\r\\n$12=0.002\\r\\n$13=0\\r\\n$20=0\\r\\n$21=0\\r\\n$22=0\\r\\n$23=0\\r\\n$24=25.000\\r\\n$25=500.000\\r\\n$26=250\\r\\n$27=1.000\\r\\n$30=1000\\r\\n$31=0\\r\\n$32=0\\r\\n$100=250.000\\r\\n$101=250.000\\r\\n$102=250.000\\r\\n$110=500.000\\r\\n$111=500.000\\r\\n$112=500.'\n"
     ]
    }
   ],
   "source": [
    "s.write(b\"$$\"+b\"\\n\")\n",
    "print(s.read(size=256))"
   ]
  },
  {
   "cell_type": "code",
   "execution_count": 39,
   "metadata": {},
   "outputs": [
    {
     "data": {
      "text/plain": [
       "True"
      ]
     },
     "execution_count": 39,
     "metadata": {},
     "output_type": "execute_result"
    }
   ],
   "source": [
    "s.isOpen()"
   ]
  },
  {
   "cell_type": "code",
   "execution_count": 53,
   "metadata": {},
   "outputs": [],
   "source": [
    "s.close()"
   ]
  },
  {
   "cell_type": "code",
   "execution_count": 1,
   "metadata": {},
   "outputs": [],
   "source": [
    "coord = 10"
   ]
  },
  {
   "cell_type": "code",
   "execution_count": 4,
   "metadata": {},
   "outputs": [
    {
     "ename": "NameError",
     "evalue": "name 'byte' is not defined",
     "output_type": "error",
     "traceback": [
      "\u001b[0;31m---------------------------------------------------------------------------\u001b[0m",
      "\u001b[0;31mNameError\u001b[0m                                 Traceback (most recent call last)",
      "\u001b[0;32m<ipython-input-4-66b359ff0327>\u001b[0m in \u001b[0;36m<module>\u001b[0;34m\u001b[0m\n\u001b[0;32m----> 1\u001b[0;31m \u001b[0ma\u001b[0m \u001b[0;34m=\u001b[0m \u001b[0mbyte\u001b[0m\u001b[0;34m(\u001b[0m\u001b[0;34mf\"G1 X{coord}\"\u001b[0m\u001b[0;34m)\u001b[0m\u001b[0;34m\u001b[0m\u001b[0;34m\u001b[0m\u001b[0m\n\u001b[0m",
      "\u001b[0;31mNameError\u001b[0m: name 'byte' is not defined"
     ]
    }
   ],
   "source": [
    "a = byte(f\"G1 X{coord}\")"
   ]
  },
  {
   "cell_type": "code",
   "execution_count": null,
   "metadata": {},
   "outputs": [],
   "source": []
  }
 ],
 "metadata": {
  "kernelspec": {
   "display_name": "Python 3",
   "language": "python",
   "name": "python3"
  },
  "language_info": {
   "codemirror_mode": {
    "name": "ipython",
    "version": 3
   },
   "file_extension": ".py",
   "mimetype": "text/x-python",
   "name": "python",
   "nbconvert_exporter": "python",
   "pygments_lexer": "ipython3",
   "version": "3.8.2"
  }
 },
 "nbformat": 4,
 "nbformat_minor": 4
}
